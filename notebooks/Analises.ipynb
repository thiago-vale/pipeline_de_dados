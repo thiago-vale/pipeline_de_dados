{
 "cells": [
  {
   "cell_type": "code",
   "execution_count": 1,
   "metadata": {},
   "outputs": [],
   "source": [
    "import sys\n",
    "sys.path.append('/home/thiago/Documentos/GitHub/pipeline_de_dados/utils')\n",
    "from spark_config import SparkConfig\n",
    "from pyspark.sql import functions as F\n",
    "from sparkmeasure import StageMetrics"
   ]
  },
  {
   "cell_type": "code",
   "execution_count": 2,
   "metadata": {},
   "outputs": [
    {
     "name": "stderr",
     "output_type": "stream",
     "text": [
      "24/08/30 09:42:39 WARN Utils: Your hostname, thiago-550XDA resolves to a loopback address: 127.0.1.1; using 192.168.0.62 instead (on interface wlo1)\n",
      "24/08/30 09:42:39 WARN Utils: Set SPARK_LOCAL_IP if you need to bind to another address\n"
     ]
    },
    {
     "name": "stdout",
     "output_type": "stream",
     "text": [
      ":: loading settings :: url = jar:file:/home/thiago/.local/lib/python3.10/site-packages/pyspark/jars/ivy-2.5.1.jar!/org/apache/ivy/core/settings/ivysettings.xml\n"
     ]
    },
    {
     "name": "stderr",
     "output_type": "stream",
     "text": [
      "Ivy Default Cache set to: /home/thiago/.ivy2/cache\n",
      "The jars for the packages stored in: /home/thiago/.ivy2/jars\n",
      "io.delta#delta-spark_2.12 added as a dependency\n",
      ":: resolving dependencies :: org.apache.spark#spark-submit-parent-77ddc7dc-7064-4602-b95d-02d81b03f624;1.0\n",
      "\tconfs: [default]\n",
      "\tfound io.delta#delta-spark_2.12;3.2.0 in central\n",
      "\tfound io.delta#delta-storage;3.2.0 in central\n",
      "\tfound org.antlr#antlr4-runtime;4.9.3 in central\n",
      ":: resolution report :: resolve 104ms :: artifacts dl 5ms\n",
      "\t:: modules in use:\n",
      "\tio.delta#delta-spark_2.12;3.2.0 from central in [default]\n",
      "\tio.delta#delta-storage;3.2.0 from central in [default]\n",
      "\torg.antlr#antlr4-runtime;4.9.3 from central in [default]\n",
      "\t---------------------------------------------------------------------\n",
      "\t|                  |            modules            ||   artifacts   |\n",
      "\t|       conf       | number| search|dwnlded|evicted|| number|dwnlded|\n",
      "\t---------------------------------------------------------------------\n",
      "\t|      default     |   3   |   0   |   0   |   0   ||   3   |   0   |\n",
      "\t---------------------------------------------------------------------\n",
      ":: retrieving :: org.apache.spark#spark-submit-parent-77ddc7dc-7064-4602-b95d-02d81b03f624\n",
      "\tconfs: [default]\n",
      "\t0 artifacts copied, 3 already retrieved (0kB/6ms)\n",
      "24/08/30 09:42:45 WARN NativeCodeLoader: Unable to load native-hadoop library for your platform... using builtin-java classes where applicable\n",
      "Setting default log level to \"WARN\".\n",
      "To adjust logging level use sc.setLogLevel(newLevel). For SparkR, use setLogLevel(newLevel).\n"
     ]
    }
   ],
   "source": [
    "spark= SparkConfig().spark_config()"
   ]
  },
  {
   "cell_type": "code",
   "execution_count": 3,
   "metadata": {},
   "outputs": [],
   "source": [
    "stage_metrics = StageMetrics(spark)"
   ]
  },
  {
   "cell_type": "code",
   "execution_count": 4,
   "metadata": {},
   "outputs": [],
   "source": [
    "stage_metrics.begin()"
   ]
  },
  {
   "cell_type": "code",
   "execution_count": 5,
   "metadata": {},
   "outputs": [
    {
     "name": "stderr",
     "output_type": "stream",
     "text": [
      "                                                                                \r"
     ]
    }
   ],
   "source": [
    "df = spark.read.format('delta').load('s3a://datalake-test-thiago/03-gold/delta/store_sales')"
   ]
  },
  {
   "cell_type": "code",
   "execution_count": 6,
   "metadata": {},
   "outputs": [
    {
     "name": "stderr",
     "output_type": "stream",
     "text": [
      "[Stage 4:===========================================>             (38 + 8) / 50]\r"
     ]
    },
    {
     "name": "stdout",
     "output_type": "stream",
     "text": [
      "Número de linhas no DataFrame: 1017209\n"
     ]
    },
    {
     "name": "stderr",
     "output_type": "stream",
     "text": [
      "                                                                                \r"
     ]
    }
   ],
   "source": [
    "num_linhas = df.count()\n",
    "print(f\"Número de linhas no DataFrame: {num_linhas}\")"
   ]
  },
  {
   "cell_type": "code",
   "execution_count": 7,
   "metadata": {},
   "outputs": [
    {
     "name": "stdout",
     "output_type": "stream",
     "text": [
      "Número de colunas no DataFrame: 29\n"
     ]
    }
   ],
   "source": [
    "num_colunas = len(df.columns)\n",
    "print(f\"Número de colunas no DataFrame: {num_colunas}\")"
   ]
  },
  {
   "cell_type": "code",
   "execution_count": 8,
   "metadata": {},
   "outputs": [
    {
     "name": "stderr",
     "output_type": "stream",
     "text": [
      "[Stage 15:>                                                         (0 + 1) / 1]\r"
     ]
    },
    {
     "name": "stdout",
     "output_type": "stream",
     "text": [
      "+-----+-----------+----------+-----+---------+----+-----+-------------+--------------+----------+----------+--------------------+----------------------------+---------------------------+------+-----------------+-----------------+---------------+---------+--------+----+-----+---+------------+---------+-----------------+----------------------+-----------+---------------+\n",
      "|store|day_of_week|      date|sales|customers|open|promo|state_holiday|school_holiday|store_type|assortment|competition_distance|competition_open_since_month|competition_open_since_year|promo2|promo2_since_week|promo2_since_year| promo_interval|month_map|is_promo|year|month|day|week_of_year|year_week|competition_since|competition_time_month|promo_since|promo_time_week|\n",
      "+-----+-----------+----------+-----+---------+----+-----+-------------+--------------+----------+----------+--------------------+----------------------------+---------------------------+------+-----------------+-----------------+---------------+---------+--------+----+-----+---+------------+---------+-----------------+----------------------+-----------+---------------+\n",
      "|    3|          1|2015-07-06| 6736|      734|   1|    0|  regular_day|             1|         a|     basic|             14130.0|                          12|                       2006|     1|               14|             2011|Jan,Apr,Jul,Oct|      Jul|       1|2015|    7|  6|          28|  2015-28|       2006-12-01|                  NULL| 2011-04-01|           NULL|\n",
      "|    3|          5|2015-01-16| 8497|      865|   1|    1|  regular_day|             0|         a|     basic|             14130.0|                          12|                       2006|     1|               14|             2011|Jan,Apr,Jul,Oct|      Jan|       1|2015|    1| 16|           3|  2015-03|       2006-12-01|                  NULL| 2011-04-01|           NULL|\n",
      "|    3|          1|2014-09-01|10679|      962|   1|    1|  regular_day|             0|         a|     basic|             14130.0|                          12|                       2006|     1|               14|             2011|Jan,Apr,Jul,Oct|      Sep|       0|2014|    9|  1|          36|  2014-36|       2006-12-01|                  NULL| 2011-04-01|           NULL|\n",
      "|    3|          4|2014-08-07| 8010|      827|   1|    1|  regular_day|             1|         a|     basic|             14130.0|                          12|                       2006|     1|               14|             2011|Jan,Apr,Jul,Oct|      Aug|       0|2014|    8|  7|          32|  2014-32|       2006-12-01|                  NULL| 2011-04-01|           NULL|\n",
      "|    3|          7|2013-07-07|    0|        0|   0|    0|  regular_day|             0|         a|     basic|             14130.0|                          12|                       2006|     1|               14|             2011|Jan,Apr,Jul,Oct|      Jul|       1|2013|    7|  7|          27|  2013-28|       2006-12-01|                  NULL| 2011-04-01|           NULL|\n",
      "|    3|          4|2013-03-07| 8479|      901|   1|    1|  regular_day|             0|         a|     basic|             14130.0|                          12|                       2006|     1|               14|             2011|Jan,Apr,Jul,Oct|      Mar|       0|2013|    3|  7|          10|  2013-10|       2006-12-01|                  NULL| 2011-04-01|           NULL|\n",
      "|   15|          4|2015-06-11| 5911|      588|   1|    0|  regular_day|             0|         d|  extended|              4110.0|                           3|                       2010|     1|               14|             2011|Jan,Apr,Jul,Oct|      Jun|       0|2015|    6| 11|          24|  2015-24|       2010-03-01|                  NULL| 2011-04-01|           NULL|\n",
      "|   15|          5|2015-02-06| 7710|      738|   1|    1|  regular_day|             0|         d|  extended|              4110.0|                           3|                       2010|     1|               14|             2011|Jan,Apr,Jul,Oct|      Fev|       0|2015|    2|  6|           6|  2015-06|       2010-03-01|                  NULL| 2011-04-01|           NULL|\n",
      "|   15|          1|2014-12-29| 9377|      875|   1|    0|  regular_day|             1|         d|  extended|              4110.0|                           3|                       2010|     1|               14|             2011|Jan,Apr,Jul,Oct|      Dec|       0|2014|   12| 29|           1|  2014-01|       2010-03-01|                  NULL| 2011-04-01|           NULL|\n",
      "|   15|          2|2014-07-15| 7766|      682|   1|    1|  regular_day|             1|         d|  extended|              4110.0|                           3|                       2010|     1|               14|             2011|Jan,Apr,Jul,Oct|      Jul|       1|2014|    7| 15|          29|  2014-29|       2010-03-01|                  NULL| 2011-04-01|           NULL|\n",
      "|   15|          7|2014-05-18|    0|        0|   0|    0|  regular_day|             0|         d|  extended|              4110.0|                           3|                       2010|     1|               14|             2011|Jan,Apr,Jul,Oct|      May|       0|2014|    5| 18|          20|  2014-21|       2010-03-01|                  NULL| 2011-04-01|           NULL|\n",
      "|   15|          4|2013-11-28| 7626|      753|   1|    0|  regular_day|             0|         d|  extended|              4110.0|                           3|                       2010|     1|               14|             2011|Jan,Apr,Jul,Oct|      Nov|       0|2013|   11| 28|          48|  2013-48|       2010-03-01|                  NULL| 2011-04-01|           NULL|\n",
      "|   15|          4|2013-04-25| 6160|      598|   1|    1|  regular_day|             0|         d|  extended|              4110.0|                           3|                       2010|     1|               14|             2011|Jan,Apr,Jul,Oct|      Apr|       1|2013|    4| 25|          17|  2013-17|       2010-03-01|                  NULL| 2011-04-01|           NULL|\n",
      "|   15|          7|2013-03-24|    0|        0|   0|    0|  regular_day|             0|         d|  extended|              4110.0|                           3|                       2010|     1|               14|             2011|Jan,Apr,Jul,Oct|      Mar|       0|2013|    3| 24|          12|  2013-13|       2010-03-01|                  NULL| 2011-04-01|           NULL|\n",
      "|   17|          5|2015-01-16| 7372|      855|   1|    1|  regular_day|             0|         a|     basic|                50.0|                          12|                       2005|     1|               26|             2010|Jan,Apr,Jul,Oct|      Jan|       1|2015|    1| 16|           3|  2015-03|       2005-12-01|                  NULL| 2010-06-24|           NULL|\n",
      "|   17|          3|2014-12-31| 2639|      367|   1|    0|  regular_day|             1|         a|     basic|                50.0|                          12|                       2005|     1|               26|             2010|Jan,Apr,Jul,Oct|      Dec|       0|2014|   12| 31|           1|  2014-01|       2005-12-01|                  NULL| 2010-06-24|           NULL|\n",
      "|   17|          2|2014-11-04|10200|     1113|   1|    1|  regular_day|             0|         a|     basic|                50.0|                          12|                       2005|     1|               26|             2010|Jan,Apr,Jul,Oct|      Nov|       0|2014|   11|  4|          45|  2014-45|       2005-12-01|                  NULL| 2010-06-24|           NULL|\n",
      "|   17|          6|2014-02-22| 2474|      339|   1|    0|  regular_day|             0|         a|     basic|                50.0|                          12|                       2005|     1|               26|             2010|Jan,Apr,Jul,Oct|      Fev|       0|2014|    2| 22|           8|  2014-08|       2005-12-01|                  NULL| 2010-06-24|           NULL|\n",
      "|   17|          5|2014-02-07| 6841|      879|   1|    1|  regular_day|             0|         a|     basic|                50.0|                          12|                       2005|     1|               26|             2010|Jan,Apr,Jul,Oct|      Fev|       0|2014|    2|  7|           6|  2014-06|       2005-12-01|                  NULL| 2010-06-24|           NULL|\n",
      "|   20|          7|2015-05-03|    0|        0|   0|    0|  regular_day|             0|         d|     basic|              2340.0|                           5|                       2009|     1|               40|             2014|Jan,Apr,Jul,Oct|      May|       0|2015|    5|  3|          18|  2015-19|       2009-05-01|                  NULL| 2014-09-30|           NULL|\n",
      "+-----+-----------+----------+-----+---------+----+-----+-------------+--------------+----------+----------+--------------------+----------------------------+---------------------------+------+-----------------+-----------------+---------------+---------+--------+----+-----+---+------------+---------+-----------------+----------------------+-----------+---------------+\n",
      "only showing top 20 rows\n",
      "\n"
     ]
    },
    {
     "name": "stderr",
     "output_type": "stream",
     "text": [
      "                                                                                \r"
     ]
    }
   ],
   "source": [
    "df.show()"
   ]
  },
  {
   "cell_type": "code",
   "execution_count": 9,
   "metadata": {},
   "outputs": [
    {
     "name": "stdout",
     "output_type": "stream",
     "text": [
      "\n",
      "Scheduling mode = FIFO\n",
      "Spark Context default degree of parallelism = 2\n",
      "\n",
      "Aggregated Spark stage metrics:\n",
      "numStages => 9\n",
      "numTasks => 160\n",
      "elapsedTime => 28418 (28 s)\n",
      "stageDuration => 26570 (27 s)\n",
      "executorRunTime => 40184 (40 s)\n",
      "executorCpuTime => 7021 (7 s)\n",
      "executorDeserializeTime => 5139 (5 s)\n",
      "executorDeserializeCpuTime => 2859 (3 s)\n",
      "resultSerializationTime => 44 (44 ms)\n",
      "jvmGCTime => 1095 (1 s)\n",
      "shuffleFetchWaitTime => 0 (0 ms)\n",
      "shuffleWriteTime => 84 (84 ms)\n",
      "resultSize => 294577 (287,7 KB)\n",
      "diskBytesSpilled => 0 (0 Bytes)\n",
      "memoryBytesSpilled => 0 (0 Bytes)\n",
      "peakExecutionMemory => 288489472\n",
      "recordsRead => 4184\n",
      "bytesRead => 7439995 (7,1 MB)\n",
      "recordsWritten => 0\n",
      "bytesWritten => 0 (0 Bytes)\n",
      "shuffleRecordsRead => 134\n",
      "shuffleTotalBlocksFetched => 123\n",
      "shuffleLocalBlocksFetched => 123\n",
      "shuffleRemoteBlocksFetched => 0\n",
      "shuffleTotalBytesRead => 22457 (21,9 KB)\n",
      "shuffleLocalBytesRead => 22457 (21,9 KB)\n",
      "shuffleRemoteBytesRead => 0 (0 Bytes)\n",
      "shuffleRemoteBytesReadToDisk => 0 (0 Bytes)\n",
      "shuffleBytesWritten => 22457 (21,9 KB)\n",
      "shuffleRecordsWritten => 134\n",
      "\n",
      "Average number of active tasks => 1.4\n",
      "\n",
      "Stages and their duration:\n",
      "Stage 0 duration => 2619 (3 s)\n",
      "Stage 1 duration => 3514 (4 s)\n",
      "Stage 2 duration => 2131 (2 s)\n",
      "Stage 4 duration => 1613 (2 s)\n",
      "Stage 7 duration => 29 (29 ms)\n",
      "Stage 9 duration => 308 (0,3 s)\n",
      "Stage 11 duration => 413 (0,4 s)\n",
      "Stage 14 duration => 63 (63 ms)\n",
      "Stage 15 duration => 15880 (16 s)\n"
     ]
    }
   ],
   "source": [
    "stage_metrics.end()\n",
    "stage_metrics.print_report()"
   ]
  }
 ],
 "metadata": {
  "kernelspec": {
   "display_name": "Python 3",
   "language": "python",
   "name": "python3"
  },
  "language_info": {
   "codemirror_mode": {
    "name": "ipython",
    "version": 3
   },
   "file_extension": ".py",
   "mimetype": "text/x-python",
   "name": "python",
   "nbconvert_exporter": "python",
   "pygments_lexer": "ipython3",
   "version": "3.10.12"
  }
 },
 "nbformat": 4,
 "nbformat_minor": 2
}
