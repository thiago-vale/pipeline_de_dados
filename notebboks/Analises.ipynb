{
 "cells": [
  {
   "cell_type": "code",
   "execution_count": 1,
   "metadata": {},
   "outputs": [],
   "source": [
    "import sys\n",
    "sys.path.append('/home/thiago/Documentos/GitHub/pipeline_de_dados/utils')\n",
    "from spark_config import SparkConfig\n",
    "from pyspark.sql import functions as F"
   ]
  },
  {
   "cell_type": "code",
   "execution_count": 2,
   "metadata": {},
   "outputs": [],
   "source": [
    "spark = SparkConfig()"
   ]
  },
  {
   "cell_type": "code",
   "execution_count": 3,
   "metadata": {},
   "outputs": [
    {
     "name": "stderr",
     "output_type": "stream",
     "text": [
      "24/08/03 12:49:04 WARN Utils: Your hostname, thiago-550XDA resolves to a loopback address: 127.0.1.1; using 192.168.0.62 instead (on interface wlo1)\n",
      "24/08/03 12:49:04 WARN Utils: Set SPARK_LOCAL_IP if you need to bind to another address\n"
     ]
    },
    {
     "name": "stdout",
     "output_type": "stream",
     "text": [
      ":: loading settings :: url = jar:file:/home/thiago/.local/lib/python3.10/site-packages/pyspark/jars/ivy-2.5.1.jar!/org/apache/ivy/core/settings/ivysettings.xml\n"
     ]
    },
    {
     "name": "stderr",
     "output_type": "stream",
     "text": [
      "Ivy Default Cache set to: /home/thiago/.ivy2/cache\n",
      "The jars for the packages stored in: /home/thiago/.ivy2/jars\n",
      "io.delta#delta-spark_2.12 added as a dependency\n",
      ":: resolving dependencies :: org.apache.spark#spark-submit-parent-46603cec-48cd-40e8-a08b-42fef6d8a65e;1.0\n",
      "\tconfs: [default]\n",
      "\tfound io.delta#delta-spark_2.12;3.2.0 in central\n",
      "\tfound io.delta#delta-storage;3.2.0 in central\n",
      "\tfound org.antlr#antlr4-runtime;4.9.3 in central\n",
      ":: resolution report :: resolve 141ms :: artifacts dl 13ms\n",
      "\t:: modules in use:\n",
      "\tio.delta#delta-spark_2.12;3.2.0 from central in [default]\n",
      "\tio.delta#delta-storage;3.2.0 from central in [default]\n",
      "\torg.antlr#antlr4-runtime;4.9.3 from central in [default]\n",
      "\t---------------------------------------------------------------------\n",
      "\t|                  |            modules            ||   artifacts   |\n",
      "\t|       conf       | number| search|dwnlded|evicted|| number|dwnlded|\n",
      "\t---------------------------------------------------------------------\n",
      "\t|      default     |   3   |   0   |   0   |   0   ||   3   |   0   |\n",
      "\t---------------------------------------------------------------------\n",
      ":: retrieving :: org.apache.spark#spark-submit-parent-46603cec-48cd-40e8-a08b-42fef6d8a65e\n",
      "\tconfs: [default]\n",
      "\t0 artifacts copied, 3 already retrieved (0kB/7ms)\n",
      "24/08/03 12:49:05 WARN NativeCodeLoader: Unable to load native-hadoop library for your platform... using builtin-java classes where applicable\n",
      "Setting default log level to \"WARN\".\n",
      "To adjust logging level use sc.setLogLevel(newLevel). For SparkR, use setLogLevel(newLevel).\n"
     ]
    }
   ],
   "source": [
    "spark= SparkConfig().spark_config()"
   ]
  },
  {
   "cell_type": "code",
   "execution_count": 6,
   "metadata": {},
   "outputs": [
    {
     "name": "stderr",
     "output_type": "stream",
     "text": [
      "                                                                                \r"
     ]
    }
   ],
   "source": [
    "df = spark.read.format('delta').load('s3a://datalake-test-thiago/03-gold/delta/store_sales')"
   ]
  },
  {
   "cell_type": "code",
   "execution_count": 7,
   "metadata": {},
   "outputs": [
    {
     "name": "stderr",
     "output_type": "stream",
     "text": [
      "[Stage 11:>                                                         (0 + 1) / 1]\r"
     ]
    },
    {
     "name": "stdout",
     "output_type": "stream",
     "text": [
      "+-----+-----------+----------+-----+---------+----+-----+-------------+--------------+----------+----------+--------------------+----------------------------+---------------------------+------+-----------------+-----------------+---------------+---------+--------+----+-----+---+------------+---------+-----------------+----------------------+-----------+---------------+\n",
      "|store|day_of_week|      date|sales|customers|open|promo|state_holiday|school_holiday|store_type|assortment|competition_distance|competition_open_since_month|competition_open_since_year|promo2|promo2_since_week|promo2_since_year| promo_interval|month_map|is_promo|year|month|day|week_of_year|year_week|competition_since|competition_time_month|promo_since|promo_time_week|\n",
      "+-----+-----------+----------+-----+---------+----+-----+-------------+--------------+----------+----------+--------------------+----------------------------+---------------------------+------+-----------------+-----------------+---------------+---------+--------+----+-----+---+------------+---------+-----------------+----------------------+-----------+---------------+\n",
      "|    3|          5|2015-07-31| 8314|      821|   1|    1|  regular_day|             1|         a|     basic|             14130.0|                          12|                       2006|     1|               14|             2011|Jan,Apr,Jul,Oct|      Jul|       1|2015|    7| 31|          31|  2015-31|       2006-12-01|                  NULL| 2011-04-01|           NULL|\n",
      "|    3|          4|2015-07-30| 8977|      823|   1|    1|  regular_day|             1|         a|     basic|             14130.0|                          12|                       2006|     1|               14|             2011|Jan,Apr,Jul,Oct|      Jul|       1|2015|    7| 30|          31|  2015-31|       2006-12-01|                  NULL| 2011-04-01|           NULL|\n",
      "|    3|          3|2015-07-29| 7610|      716|   1|    1|  regular_day|             1|         a|     basic|             14130.0|                          12|                       2006|     1|               14|             2011|Jan,Apr,Jul,Oct|      Jul|       1|2015|    7| 29|          31|  2015-31|       2006-12-01|                  NULL| 2011-04-01|           NULL|\n",
      "|    3|          2|2015-07-28| 8864|      818|   1|    1|  regular_day|             1|         a|     basic|             14130.0|                          12|                       2006|     1|               14|             2011|Jan,Apr,Jul,Oct|      Jul|       1|2015|    7| 28|          31|  2015-31|       2006-12-01|                  NULL| 2011-04-01|           NULL|\n",
      "|    3|          1|2015-07-27| 8107|      768|   1|    1|  regular_day|             1|         a|     basic|             14130.0|                          12|                       2006|     1|               14|             2011|Jan,Apr,Jul,Oct|      Jul|       1|2015|    7| 27|          31|  2015-31|       2006-12-01|                  NULL| 2011-04-01|           NULL|\n",
      "+-----+-----------+----------+-----+---------+----+-----+-------------+--------------+----------+----------+--------------------+----------------------------+---------------------------+------+-----------------+-----------------+---------------+---------+--------+----+-----+---+------------+---------+-----------------+----------------------+-----------+---------------+\n",
      "only showing top 5 rows\n",
      "\n"
     ]
    },
    {
     "name": "stderr",
     "output_type": "stream",
     "text": [
      "                                                                                \r"
     ]
    }
   ],
   "source": [
    "df.show(5)"
   ]
  },
  {
   "cell_type": "code",
   "execution_count": 8,
   "metadata": {},
   "outputs": [
    {
     "data": {
      "text/plain": [
       "[('store', 'int'),\n",
       " ('day_of_week', 'int'),\n",
       " ('date', 'date'),\n",
       " ('sales', 'int'),\n",
       " ('customers', 'int'),\n",
       " ('open', 'int'),\n",
       " ('promo', 'int'),\n",
       " ('state_holiday', 'string'),\n",
       " ('school_holiday', 'int'),\n",
       " ('store_type', 'string'),\n",
       " ('assortment', 'string'),\n",
       " ('competition_distance', 'double'),\n",
       " ('competition_open_since_month', 'int'),\n",
       " ('competition_open_since_year', 'int'),\n",
       " ('promo2', 'int'),\n",
       " ('promo2_since_week', 'int'),\n",
       " ('promo2_since_year', 'int'),\n",
       " ('promo_interval', 'string'),\n",
       " ('month_map', 'string'),\n",
       " ('is_promo', 'int'),\n",
       " ('year', 'int'),\n",
       " ('month', 'int'),\n",
       " ('day', 'int'),\n",
       " ('week_of_year', 'int'),\n",
       " ('year_week', 'string'),\n",
       " ('competition_since', 'date'),\n",
       " ('competition_time_month', 'int'),\n",
       " ('promo_since', 'date'),\n",
       " ('promo_time_week', 'int')]"
      ]
     },
     "execution_count": 8,
     "metadata": {},
     "output_type": "execute_result"
    }
   ],
   "source": [
    "df.dtypes"
   ]
  },
  {
   "cell_type": "code",
   "execution_count": null,
   "metadata": {},
   "outputs": [],
   "source": []
  }
 ],
 "metadata": {
  "kernelspec": {
   "display_name": "Python 3",
   "language": "python",
   "name": "python3"
  },
  "language_info": {
   "codemirror_mode": {
    "name": "ipython",
    "version": 3
   },
   "file_extension": ".py",
   "mimetype": "text/x-python",
   "name": "python",
   "nbconvert_exporter": "python",
   "pygments_lexer": "ipython3",
   "version": "3.10.12"
  }
 },
 "nbformat": 4,
 "nbformat_minor": 2
}
